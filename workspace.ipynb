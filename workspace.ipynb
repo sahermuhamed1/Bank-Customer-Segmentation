{
 "cells": [
  {
   "cell_type": "markdown",
   "id": "b30c668c",
   "metadata": {},
   "source": [
    "# 🏦 Bank Customer Segmentation\n",
    "\n",
    "\n",
    "## 📚 Table of Contents\n",
    "### 1️⃣ Data Preparation & Exploration\n",
    "- [1.1 📥 Import Libraries & Load Data](#import-libraries)\n",
    "\n",
    "### 2️⃣ Data Cleaning & Preprocessing\n",
    "- [2.1 🧹 Clean Missing Values](#clean-missing)\n",
    "- [2.2 🔄 Create RFM Features](#rfm)\n",
    "- [2.3 📏 Handle Outliers](#handle-outliers)\n",
    "\n",
    "### 3️⃣ Exploratory Data Analysis\n",
    "- [3.1 📊 Exploratory Data Analysis (EDA)](#exploratory-data-analysis)\n",
    "\n",
    "### 4️⃣ Feature Engineering\n",
    "- [4.1 🔍 Scaling & Feature Engineering](#scaling-encoding)\n",
    "\n",
    "### 5️⃣ Model Development\n",
    "- [5.1 🔄 Implement K-Mean](#kmean)\n",
    "- [5.2 📊 Implement PCA](#pca)\n",
    "\n",
    "### 6️⃣ Conclusions\n",
    "- [6.1 💡 Key Insights](#key-insights)\n",
    "- [6.2 📊 Model Explainability using SHAP](#SHAP)\n"
   ]
  },
  {
   "cell_type": "markdown",
   "id": "1d6e5664",
   "metadata": {},
   "source": [
    "---\n",
    "## Goal of this Notebook🎯\n",
    "- Perform Clustering / Segmentation on the dataset and identify popular customer groups along with their definitions/rules\n",
    "- Perform Location-wise analysis to identify regional trends in India\n",
    "- Perform transaction-related analysis to identify interesting trends that can be used by a bank to improve / optimi their user experiences\n",
    "- Customer Recency, Frequency, Monetary analysis\n",
    "- Network analysis or Graph analysis of customer data."
   ]
  },
  {
   "cell_type": "markdown",
   "id": "b7f41d87",
   "metadata": {},
   "source": [
    "<a id=\"import-libraries\"></a>\n",
    "## 1.1 📥 Import Libraries & Load Data\n"
   ]
  },
  {
   "cell_type": "code",
   "execution_count": null,
   "id": "068efce7",
   "metadata": {},
   "outputs": [],
   "source": [
    "import re\n",
    "import numpy as np \n",
    "import pandas as pd \n",
    "import matplotlib.pyplot as plt\n",
    "plt.style.use(\"fivethirtyeight\")\n",
    "import seaborn as sns\n",
    "import plotly.express as px\n",
    "import plotly.graph_objects as go\n",
    "\n",
    "import warnings\n",
    "warnings.simplefilter(action='ignore', category=FutureWarning)\n",
    "warnings.simplefilter(action='ignore', category=DeprecationWarning)\n",
    "warnings.simplefilter(action='ignore', category=RuntimeWarning)\n",
    "\n",
    "import scipy.cluster.hierarchy as sch\n",
    "from sklearn.preprocessing import StandardScaler\n",
    "from sklearn.cluster import KMeans \n",
    "from sklearn.decomposition import PCA\n",
    "from sklearn.metrics import silhouette_score\n",
    "\n",
    "from kneed import KneeLocator\n",
    "from yellowbrick.cluster import KElbowVisualizer\n"
   ]
  },
  {
   "cell_type": "code",
   "execution_count": null,
   "id": "086eafec",
   "metadata": {},
   "outputs": [],
   "source": [
    "df = pd.read_csv(r\"data/bank_transactions.csv\")\n",
    "df.head()"
   ]
  },
  {
   "cell_type": "code",
   "execution_count": null,
   "id": "5d41b54e",
   "metadata": {},
   "outputs": [],
   "source": [
    "df.info()"
   ]
  },
  {
   "cell_type": "markdown",
   "id": "126504e6",
   "metadata": {},
   "source": [
    "<a id=\"clean-missing\"></a>\n",
    "## **2.1 🧹 Clean Missing Values**"
   ]
  },
  {
   "cell_type": "code",
   "execution_count": null,
   "id": "7fc000fe",
   "metadata": {},
   "outputs": [],
   "source": [
    "a = df['CustomerID'].nunique()\n",
    "print(f\"# unique customers:\", a)\n",
    "print(60*'-')\n",
    "b = df['CustLocation'].nunique()\n",
    "print(f\"# unique locations:\", b)\n",
    "print(60*'-')\n",
    "df['CustGender'].value_counts()"
   ]
  },
  {
   "cell_type": "code",
   "execution_count": null,
   "id": "9ac10b5e",
   "metadata": {},
   "outputs": [],
   "source": [
    "df.isna().sum()"
   ]
  },
  {
   "cell_type": "code",
   "execution_count": null,
   "id": "f26c9c25",
   "metadata": {},
   "outputs": [],
   "source": [
    "df.dropna(inplace=True)\n",
    "df.isna().sum()"
   ]
  },
  {
   "cell_type": "code",
   "execution_count": null,
   "id": "bd86cf52",
   "metadata": {},
   "outputs": [],
   "source": [
    "# Convert datetime data\n",
    "df['TransactionDate'] = pd.to_datetime(df['TransactionDate'])\n",
    "df['CustomerDOB'] = pd.to_datetime(df['CustomerDOB'])"
   ]
  },
  {
   "cell_type": "code",
   "execution_count": null,
   "id": "da283c70",
   "metadata": {},
   "outputs": [],
   "source": [
    "df['Age'] =df['TransactionDate'].dt.year - df['CustomerDOB'].dt.year"
   ]
  },
  {
   "cell_type": "code",
   "execution_count": null,
   "id": "89ba6ff6",
   "metadata": {},
   "outputs": [],
   "source": [
    "df.drop(df[df['CustGender']=='T'].index,inplace=True)\n",
    "num_col = df.select_dtypes(include=np.number)\n",
    "cat_col = df.select_dtypes(exclude=np.number)"
   ]
  },
  {
   "cell_type": "code",
   "execution_count": null,
   "id": "976c2c20",
   "metadata": {},
   "outputs": [],
   "source": [
    "plt.style.use(\"fivethirtyeight\")\n",
    "plt.figure(figsize=(30,40))\n",
    "for index,column in enumerate(num_col):\n",
    "    plt.subplot(12,6,index+1)\n",
    "    sns.boxplot(data=num_col,x=column)\n",
    "    \n",
    "plt.tight_layout(pad = 1.0)"
   ]
  },
  {
   "cell_type": "code",
   "execution_count": null,
   "id": "968c2519",
   "metadata": {},
   "outputs": [],
   "source": [
    "# The age is negative because anyone can open a Life Saver youth savings account on behalf of a child or grandchild so we will assign it to 0.\n",
    "df.loc[df['Age'] < 0, 'Age'] = 0\n",
    "# remove outliers\n",
    "df = df[df['Age'] <= 100]"
   ]
  },
  {
   "cell_type": "code",
   "execution_count": null,
   "id": "df359bd6",
   "metadata": {},
   "outputs": [],
   "source": [
    "plt.figure(figsize=(6,3))\n",
    "sns.boxplot(data=df, x='Age')\n",
    "plt.show"
   ]
  },
  {
   "cell_type": "markdown",
   "id": "c7f137a3",
   "metadata": {},
   "source": [
    "<a id=\"rfm\"></a>\n",
    "## **2.2 🔄 Create RFM Features**"
   ]
  },
  {
   "cell_type": "markdown",
   "id": "088f2bfd",
   "metadata": {},
   "source": [
    "### Now we will create our RFM dataframe to make Customer RFM Analysis"
   ]
  },
  {
   "cell_type": "code",
   "execution_count": null,
   "id": "b9a1c99c",
   "metadata": {},
   "outputs": [],
   "source": [
    "df['TransactionDate1']=df['TransactionDate'] # for first transaction\n",
    "df['TransactionDate2']=df['TransactionDate'] # for last transaction\n",
    "\n",
    "# Creating MRF table\n",
    "MRF_df = df.groupby(\"CustomerID\").agg({\n",
    "                                        \"TransactionID\" : \"count\",\n",
    "                                        \"CustGender\" : \"first\",\n",
    "                                        \"CustLocation\":\"first\",\n",
    "                                        \"CustAccountBalance\"  : \"median\",\n",
    "                                        \"TransactionAmount (INR)\" : \"mean\",\n",
    "                                        \"Age\" : \"median\",\n",
    "                                        \"TransactionDate2\":\"max\",\n",
    "                                        \"TransactionDate1\":\"min\",\n",
    "                                        \"TransactionDate\":\"median\"\n",
    "                        })\n",
    "\n",
    "MRF_df = MRF_df.reset_index()\n",
    "MRF_df.info()"
   ]
  },
  {
   "cell_type": "code",
   "execution_count": null,
   "id": "7624b4e0",
   "metadata": {},
   "outputs": [],
   "source": [
    "MRF_df.head()"
   ]
  },
  {
   "cell_type": "code",
   "execution_count": null,
   "id": "38ecf382",
   "metadata": {},
   "outputs": [],
   "source": [
    "MRF_df['CustomerID'].nunique()"
   ]
  },
  {
   "cell_type": "code",
   "execution_count": null,
   "id": "c2175c3a",
   "metadata": {},
   "outputs": [],
   "source": [
    "MRF_df['TransactionID'].value_counts()"
   ]
  },
  {
   "cell_type": "markdown",
   "id": "a8a7f3f0",
   "metadata": {},
   "source": [
    "---\n",
    "- ### Maximum amout of trx is 6 trx \n",
    "- ### our MRF df has no duplicated customer ID (which will avoid us from data leakage in the future)\n",
    "---"
   ]
  },
  {
   "cell_type": "markdown",
   "id": "18ee9ece",
   "metadata": {},
   "source": [
    "### RFM is an appreviation for Recency, Frequency, and Monetary which is used a lot in the banking sector to know more about the customer.\n",
    "\n",
    "- #### Recency: The Recent Customer Activity or Transaction.\n",
    "\n",
    "- #### Frequency: The Frequency of Customer Transactions in a specific period of time.\n",
    "\n",
    "- ####  Monetary: The Amount of spend in this period of time."
   ]
  },
  {
   "cell_type": "code",
   "execution_count": null,
   "id": "3704c75d",
   "metadata": {},
   "outputs": [],
   "source": [
    "MRF_df.rename(columns={\"TransactionID\":\"Frequency\"},inplace=True)\n",
    "MRF_df['Recency']=MRF_df['TransactionDate2']-MRF_df['TransactionDate1']\n",
    "MRF_df['Recency']=MRF_df['Recency'].astype(str)\n",
    "MRF_df['Recency'].value_counts()"
   ]
  },
  {
   "cell_type": "code",
   "execution_count": null,
   "id": "4d07b7f4",
   "metadata": {},
   "outputs": [],
   "source": [
    "# Extract the # of days only\n",
    "MRF_df['Recency']=MRF_df['Recency'].apply(lambda x :re.search('\\d+',x).group())\n",
    "MRF_df['Recency']=MRF_df['Recency'].astype(int)\n",
    "MRF_df['Recency'].value_counts()"
   ]
  },
  {
   "cell_type": "code",
   "execution_count": null,
   "id": "f5620656",
   "metadata": {},
   "outputs": [],
   "source": [
    "MRF_df.rename(columns={\"TransactionAmount (INR)\":\"Monetary\"},inplace=True)"
   ]
  },
  {
   "cell_type": "code",
   "execution_count": null,
   "id": "a80ae8da",
   "metadata": {},
   "outputs": [],
   "source": [
    "# 0 days mean that a customer has done transaction on the same day so we will replace it with 1\n",
    "MRF_df.loc[MRF_df['Recency'] == 0, 'Recency'] = 1\n",
    "MRF_df['Recency'].value_counts()"
   ]
  },
  {
   "cell_type": "markdown",
   "id": "76b4d862",
   "metadata": {},
   "source": [
    "<a id=\"handle-outliers\"></a>\n",
    "## **2.3 📏 Handle Outliers**"
   ]
  },
  {
   "cell_type": "code",
   "execution_count": null,
   "id": "2ace0877",
   "metadata": {},
   "outputs": [],
   "source": [
    "df.drop(columns=[\"TransactionDate1\",\"TransactionDate2\"],inplace=True)\n",
    "MRF_df.drop(columns=[\"TransactionDate1\",\"TransactionDate2\"],inplace=True)"
   ]
  },
  {
   "cell_type": "code",
   "execution_count": null,
   "id": "e078523c",
   "metadata": {},
   "outputs": [],
   "source": [
    "num_col = MRF_df.select_dtypes(include=np.number)\n",
    "cat_col = MRF_df.select_dtypes(exclude=np.number)"
   ]
  },
  {
   "cell_type": "code",
   "execution_count": null,
   "id": "0212b972",
   "metadata": {},
   "outputs": [],
   "source": [
    "num_col.drop(columns={\"Frequency\"}, inplace = True)\n",
    "num_col.head()"
   ]
  },
  {
   "cell_type": "code",
   "execution_count": null,
   "id": "8d5f9ee3",
   "metadata": {},
   "outputs": [],
   "source": [
    "plt.style.use(\"fivethirtyeight\")\n",
    "plt.figure(figsize=(30,40))\n",
    "for index,column in enumerate(num_col):\n",
    "    plt.subplot(12,6,index+1)\n",
    "    sns.boxplot(data=num_col,x=column)\n",
    "    \n",
    "plt.tight_layout(pad = 1.0)"
   ]
  },
  {
   "cell_type": "code",
   "execution_count": null,
   "id": "87fc0043",
   "metadata": {},
   "outputs": [],
   "source": [
    "# to claculate the otliers for each feature\n",
    "lower_list=[]\n",
    "upper_list=[]\n",
    "num_list=[]\n",
    "perc_list=[]\n",
    "cols=['CustAccountBalance','Monetary', 'Age', 'Recency']\n",
    "for i in cols:\n",
    "    Q1 = MRF_df[i].quantile(0.25)\n",
    "    Q3 = MRF_df[i].quantile(0.75)\n",
    "    IQR = Q3 - Q1\n",
    "\n",
    "    lower = Q1 - 1.5 * IQR\n",
    "    upper = Q3 + 1.5 * IQR\n",
    "\n",
    "    # calculate number of outliers\n",
    "    num=MRF_df[(MRF_df[i] < lower) | (MRF_df[i] > upper)].shape[0]\n",
    "    \n",
    "    # calculate percentage of outliers\n",
    "    perc = (num / MRF_df.shape[0]) * 100\n",
    "    lower_list.append(lower)\n",
    "    upper_list.append(upper)\n",
    "    num_list.append(num)\n",
    "    perc_list.append(round(perc,2))\n",
    "\n",
    "dic={'lower': lower_list, 'upper': upper_list, 'outliers': num_list, 'Perc%':perc_list }"
   ]
  },
  {
   "cell_type": "code",
   "execution_count": null,
   "id": "7ca3d2a5",
   "metadata": {},
   "outputs": [],
   "source": [
    "outliers_df=pd.DataFrame(dic,index=['CustAccountBalance','Monetary', 'Age', 'Recency'])\n",
    "outliers_df"
   ]
  },
  {
   "cell_type": "markdown",
   "id": "7b442dba",
   "metadata": {},
   "source": [
    "### they are seem like an outliers but actually they are not"
   ]
  },
  {
   "cell_type": "markdown",
   "id": "7cec3aa9",
   "metadata": {},
   "source": [
    "---\n",
    "<a id=\"exploratory-data-analysis\"></a>\n",
    "## **3.2 📊 Exploratory Data Analysis (EDA)**\n"
   ]
  },
  {
   "cell_type": "code",
   "execution_count": null,
   "id": "48c23f29",
   "metadata": {},
   "outputs": [],
   "source": [
    "MRF_df.head()"
   ]
  },
  {
   "cell_type": "code",
   "execution_count": null,
   "id": "bf47d9f6",
   "metadata": {},
   "outputs": [],
   "source": [
    "MRF_df.describe()"
   ]
  },
  {
   "cell_type": "code",
   "execution_count": null,
   "id": "8d240f15",
   "metadata": {},
   "outputs": [],
   "source": [
    "plt.figure(figsize=(7, 5))\n",
    "correlation = MRF_df.select_dtypes(include=[float, int]).corr()\n",
    "\n",
    "sns.heatmap(\n",
    "    correlation,\n",
    "    vmin=-1,          # allow full correlation range\n",
    "    vmax=1,\n",
    "    cmap='BuPu',\n",
    "    annot=True,\n",
    "    fmt='.1f',\n",
    "    linecolor='white',\n",
    "    cbar=True\n",
    ")\n",
    "plt.show()\n"
   ]
  },
  {
   "cell_type": "code",
   "execution_count": null,
   "id": "988c24ba",
   "metadata": {},
   "outputs": [],
   "source": [
    "plt.style.use(\"fivethirtyeight\")\n",
    "fig,ax=plt.subplots(ncols=3,nrows=1,figsize=(15,5))\n",
    "palette_color = sns.color_palette('rocket')\n",
    "ax[0].hist(x=MRF_df['Age'],color='purple')\n",
    "ax[0].set_title(\"Distribution of Customer Age\")\n",
    "ax[1].pie(MRF_df['CustGender'].value_counts(),autopct='%1.f%%',colors=palette_color,labels=['Male','Female'])\n",
    "ax[1].set_title(\"Customer Gender\")\n",
    "ax[2].hist(x=MRF_df['Frequency'],color='purple')\n",
    "ax[2].set_title(\"Frequency Distribution\")\n",
    "plt.tight_layout()"
   ]
  },
  {
   "cell_type": "code",
   "execution_count": null,
   "id": "3ce310b9",
   "metadata": {},
   "outputs": [],
   "source": [
    "diff = MRF_df['Recency'].max()-MRF_df['Recency'].min()\n",
    "print(\"Difference between maximum and minimum recency:\", diff)"
   ]
  },
  {
   "cell_type": "code",
   "execution_count": null,
   "id": "2ba7d04b",
   "metadata": {},
   "outputs": [],
   "source": [
    "MRF_df.info()"
   ]
  },
  {
   "cell_type": "code",
   "execution_count": null,
   "id": "32594fdd",
   "metadata": {},
   "outputs": [],
   "source": [
    "MRF_df=MRF_df.sort_values(by='TransactionDate')\n",
    "MRF = MRF_df.copy() \n",
    "MRF = MRF.drop(columns=['CustGender','CustLocation', 'CustomerID'])\n",
    "monthly=MRF.groupby([pd.Grouper(key='TransactionDate',freq='M')]).mean()\n",
    "\n",
    "monthly"
   ]
  },
  {
   "cell_type": "code",
   "execution_count": null,
   "id": "465cb858",
   "metadata": {},
   "outputs": [],
   "source": [
    "plt.style.use(\"fivethirtyeight\")\n",
    "fig,ax=plt.subplots(ncols=2,nrows=1,figsize=(15,5))\n",
    "ax[0].plot(monthly.index,monthly['CustAccountBalance'],color='purple',marker='o',label='Customer Account Balance')\n",
    "ax[0].set_title('Cust Account Balance Over The Time')\n",
    "ax[1].plot(monthly.index,monthly['Monetary'],color='purple',marker='o',label='Monetary')\n",
    "ax[1].set_title(\"Monetary Over The Time\")\n",
    "plt.legend() "
   ]
  },
  {
   "cell_type": "markdown",
   "id": "280ec6ee",
   "metadata": {},
   "source": [
    "---\n",
    "<a id=\"scaling-encoding\"></a>\n",
    "## **4.1 🔍 Scaling & Feature Engineering**\n"
   ]
  },
  {
   "cell_type": "code",
   "execution_count": null,
   "id": "e2fb251a",
   "metadata": {},
   "outputs": [],
   "source": [
    "MRF_df=MRF_df.reset_index(drop=True) # drop=True means the old index is not added as a column\n",
    "MRF_df.head()\n"
   ]
  },
  {
   "cell_type": "code",
   "execution_count": null,
   "id": "6039951e",
   "metadata": {},
   "outputs": [],
   "source": [
    "MRF_df.drop(columns=['CustLocation','TransactionDate'],inplace=True)"
   ]
  },
  {
   "cell_type": "code",
   "execution_count": null,
   "id": "81f1bcb7",
   "metadata": {},
   "outputs": [],
   "source": [
    "MRF_df['CustGender']=MRF_df['CustGender'].map({'M':1,'F':0})\n"
   ]
  },
  {
   "cell_type": "code",
   "execution_count": null,
   "id": "e7e35881",
   "metadata": {},
   "outputs": [],
   "source": [
    "MRF_df.drop(columns=['CustomerID'],inplace=True)"
   ]
  },
  {
   "cell_type": "code",
   "execution_count": null,
   "id": "1d21babe",
   "metadata": {},
   "outputs": [],
   "source": [
    "scaler = StandardScaler()\n",
    "df_scaled=scaler.fit_transform(MRF_df)\n",
    "df_scaled=pd.DataFrame(df_scaled,columns=MRF_df.columns) # convert the scaled NumPy array back to DataFrame\n",
    "df_scaled.head()"
   ]
  },
  {
   "cell_type": "code",
   "execution_count": null,
   "id": "4c9e45e2",
   "metadata": {},
   "outputs": [],
   "source": [
    "df_scaled.info()"
   ]
  },
  {
   "cell_type": "markdown",
   "id": "df3c9b52",
   "metadata": {},
   "source": [
    "### Since the data is too large, we will sample it to make it easier to work with. We will use a random sample of 200,000 rows from the scaled dataframe.\n"
   ]
  },
  {
   "cell_type": "code",
   "execution_count": null,
   "id": "6444de39",
   "metadata": {},
   "outputs": [],
   "source": [
    "df_scaled=df_scaled.sample(n=200000,random_state=42).reset_index(drop=True)\n",
    "df_scaled.head()"
   ]
  },
  {
   "cell_type": "markdown",
   "id": "1f860448",
   "metadata": {},
   "source": [
    "---\n",
    "<a id=\"kmean\"></a>\n",
    "## **5.1 🔄 Implement K-Mean**\n"
   ]
  },
  {
   "cell_type": "code",
   "execution_count": null,
   "id": "a6ccb725",
   "metadata": {},
   "outputs": [],
   "source": [
    "# Kmeans algorithm settings\n",
    "kmeans_set = {\"init\":\"random\", \"max_iter\":300, \"random_state\":42}\n",
    "\n",
    "# Silhouette score and inertia\n",
    "inertias = []\n",
    "silhouette_coefficients = []\n",
    "\n",
    "for k in range(3,7):\n",
    "    kmeans = KMeans(n_clusters=k, **kmeans_set)    # open dictionary\n",
    "    kmeans.fit(df_scaled)\n",
    "    inertias.append(kmeans.inertia_)\n",
    "    score=silhouette_score(df_scaled, kmeans.labels_)\n",
    "    silhouette_coefficients.append(score)"
   ]
  },
  {
   "cell_type": "code",
   "execution_count": null,
   "id": "27a1e1e8",
   "metadata": {},
   "outputs": [],
   "source": [
    "fig,ax=plt.subplots(1,2,figsize=(20,5))\n",
    "kl = KneeLocator(range(3,7), inertias, curve='convex', direction=\"decreasing\") # KneeLocator is used to find the \"elbow\" point in the inertia plot\n",
    "ax[0].plot(range(3,7), inertias ,marker='o',label='Elbow Method')\n",
    "ax[0].set_xticks(range(3,7))\n",
    "ax[0].set_xlabel(\"Number of Clusters\", labelpad=20)\n",
    "ax[0].set_ylabel(\"Inertia\", labelpad=20)\n",
    "ax[0].set_title(\"Elbow Method\")\n",
    "ax[0].axvline(x=kl.elbow, color='black', label='axvline-fullheight', ls='--', linewidth=3)\n",
    "\n",
    "ax[1].plot(range(3,7), silhouette_coefficients,marker='o',label='silhouette coefficients')\n",
    "ax[1].set_xticks(range(3,7))\n",
    "ax[1].set_title(\"silhouette values\")\n",
    "ax[1].set_xlabel(\"Number of clusters\")\n",
    "ax[1].set_ylabel(\"silhouette_coefficients\")\n",
    "plt.tight_layout()"
   ]
  },
  {
   "cell_type": "code",
   "execution_count": null,
   "id": "a87f05e0",
   "metadata": {},
   "outputs": [],
   "source": [
    "plt.figure(figsize=(30,10))\n",
    "z = sch.linkage(df_scaled.iloc[:500,:], 'ward')\n",
    "sch.dendrogram(z)\n",
    "plt.show()"
   ]
  },
  {
   "cell_type": "markdown",
   "id": "13ed1e31",
   "metadata": {},
   "source": [
    "### from the elbow method, we can see that the optimal K range is between 4 and 5 clusters, so we will narrow down a range of possible K values to [4, 6].\n",
    "### from the silhouette method, we can see that the optimal K value in the range we specified is **6 clusters**."
   ]
  },
  {
   "cell_type": "code",
   "execution_count": null,
   "id": "6d19b6eb",
   "metadata": {},
   "outputs": [],
   "source": [
    "kmeans = KMeans(n_clusters=6 , **kmeans_set) # **kmeans_set is used to unpack the dictionary\n",
    "kmeans.fit(df_scaled)\n",
    "df_scaled['Label']=kmeans.labels_\n",
    "df_scaled.head()"
   ]
  },
  {
   "cell_type": "code",
   "execution_count": null,
   "id": "7bffc4e1",
   "metadata": {},
   "outputs": [],
   "source": [
    "df_scaled['Label'].value_counts()"
   ]
  },
  {
   "cell_type": "code",
   "execution_count": null,
   "id": "4797f9a9",
   "metadata": {},
   "outputs": [],
   "source": [
    "attributes = df_scaled.columns[:6]\n",
    "colors=['purple','yellow','red','blue','magenta','orange']\n",
    "cluster=['Cluster 1','Cluster 2','Cluster 3','Cluster 4','Cluster 5','Cluster 6']\n",
    "\n",
    "fig = go.Figure()\n",
    "for index in range(0,6):\n",
    "    fig.add_trace(go.Scatterpolar(r=np.mean(df_scaled.loc[df_scaled.Label == index, attributes]),\n",
    "                                  theta=attributes,\n",
    "                                  fill='toself',\n",
    "                                  fillcolor=colors[index],\n",
    "                                  opacity=0.4,\n",
    "                                  name=cluster[index]))\n",
    "    \n",
    "fig.update_layout(polar=dict(radialaxis=dict(visible=True)),showlegend=True,\n",
    "                  title=\"Radar plot - Cluster attributes (Normalized Values)\")\n",
    "fig.show()"
   ]
  },
  {
   "cell_type": "markdown",
   "id": "b2ef9426",
   "metadata": {},
   "source": [
    "### **Visualize the Clusters using PCA**\n",
    "#### Reduce the high-dimensional data to 2 principal components and then plot."
   ]
  },
  {
   "cell_type": "code",
   "execution_count": null,
   "id": "318a70a2",
   "metadata": {},
   "outputs": [],
   "source": [
    "features = df_scaled.drop('Label', axis=1)\n",
    "\n",
    "pca = PCA(n_components=2) \n",
    "principal_components = pca.fit_transform(features)\n",
    "\n",
    "# Create a DataFrame for the principal components\n",
    "pca_df = pd.DataFrame(data = principal_components,\n",
    "                      columns = ['principal_component_1', 'principal_component_2'])\n",
    "\n",
    "# Add the cluster labels to the PCA DataFrame\n",
    "pca_df['Label'] = df_scaled['Label']\n",
    "\n",
    "plt.figure(figsize=(10, 7))\n",
    "sns.scatterplot(x='principal_component_1', y='principal_component_2', hue='Label',\n",
    "                data=pca_df, palette='viridis', s=50, alpha=0.8)\n",
    "plt.title('K-Means Clusters in PCA Reduced Space (2 Components)')\n",
    "plt.xlabel(f'Principal Component 1 ({pca.explained_variance_ratio_[0]*100:.2f}% Variance)')\n",
    "plt.ylabel(f'Principal Component 2 ({pca.explained_variance_ratio_[1]*100:.2f}% Variance)')\n",
    "plt.legend(title='Cluster')\n",
    "plt.grid(True, linestyle='--', alpha=0.6)\n",
    "plt.show()\n",
    "\n",
    "# If you want to see explained variance ratio\n",
    "print(f\"Explained variance by PC1: {pca.explained_variance_ratio_[0]:.2f}\")\n",
    "print(f\"Explained variance by PC2: {pca.explained_variance_ratio_[1]:.2f}\")\n",
    "print(f\"Total explained variance by 2 PCs: {pca.explained_variance_ratio_.sum():.2f}\")"
   ]
  },
  {
   "cell_type": "markdown",
   "id": "15e9eb4f",
   "metadata": {},
   "source": [
    "---\n",
    "<a id=\"pca\"></a>\n",
    "## **5.2 📊 Implement PCA**"
   ]
  },
  {
   "cell_type": "code",
   "execution_count": null,
   "id": "17eb181b",
   "metadata": {},
   "outputs": [],
   "source": [
    "# here we want to check how many component we need to explain 90%  of the variance\n",
    "plt.style.use(\"fivethirtyeight\")\n",
    "pca = PCA().fit(df_scaled.iloc[:,:-1])\n",
    "plt.plot(np.cumsum(pca.explained_variance_ratio_),color='purple',marker='o')  #EX: cusum([4,2,3,1,6]) ==>[4,6,9,10,16]\n",
    "plt.xlabel('number of components')\n",
    "plt.ylabel('cumulative explained variance')\n",
    "# x tickes\n",
    "plt.xticks(np.arange(0, 10, 1))\n",
    "plt.show()"
   ]
  },
  {
   "cell_type": "code",
   "execution_count": null,
   "id": "934b0c44",
   "metadata": {},
   "outputs": [],
   "source": [
    "pca = PCA(n_components=4)\n",
    "pca_data = pca.fit_transform(df_scaled.iloc[:,:-1])\n",
    "\n",
    "inertia = []\n",
    "silhouette = []\n",
    "\n",
    "\n",
    "for k in range(2,11):\n",
    "    km = KMeans(init='k-means++', n_clusters=k, random_state=42)\n",
    "    km.fit(pca_data)\n",
    "    inertia.append(km.inertia_)\n",
    "    P_score=silhouette_score(pca_data, km.labels_)\n",
    "    silhouette.append(P_score)"
   ]
  },
  {
   "cell_type": "code",
   "execution_count": null,
   "id": "664322ad",
   "metadata": {},
   "outputs": [],
   "source": [
    "pca = PCA(n_components=4)\n",
    "pca_data = pca.fit_transform(df_scaled.iloc[:,:-1])"
   ]
  },
  {
   "cell_type": "code",
   "execution_count": null,
   "id": "75b7f3fe",
   "metadata": {},
   "outputs": [],
   "source": [
    "plt.style.use(\"fivethirtyeight\")\n",
    "fig,ax=plt.subplots(1,2,figsize=(20,5))\n",
    "Pkl = KneeLocator(range(3,7), inertia, curve='convex', direction=\"decreasing\")\n",
    "# draw Elbow\n",
    "ax[0].plot(range(3,7), inertia,color='purple',marker='o',label='Elbow Method')\n",
    "ax[0].set_xticks(range(3,7))\n",
    "ax[0].set_xlabel(\"Number of Clusters\", labelpad=20)\n",
    "ax[0].set_ylabel(\"Inertia\", labelpad=20)\n",
    "ax[0].set_title(\"Elbow Method\")\n",
    "ax[0].axvline(x=Pkl.elbow, color='black', label='axvline-fullheight', ls='--', linewidth=3)\n",
    "# draw silhouette\n",
    "ax[1].plot(range(3,7), silhouette,color='purple',marker='o',label='silhouette coefficients')\n",
    "ax[1].set_xticks(range(3,7))\n",
    "ax[1].set_title(\"silhouette values\")\n",
    "ax[1].set_xlabel(\"Number of clusters\")\n",
    "ax[1].set_ylabel(\"silhouette_coefficients\")\n",
    "plt.tight_layout()"
   ]
  },
  {
   "cell_type": "code",
   "execution_count": null,
   "id": "e0cc34ef",
   "metadata": {},
   "outputs": [],
   "source": [
    "PCA_kmeans = KMeans(n_clusters=7 , **kmeans_set)    \n",
    "PCA_kmeans.fit(pca_data)\n",
    "# create a dataframe for the pca data\n",
    "pca_df = pd.DataFrame(pca_data, columns=['PC1', 'PC2', 'PC3', 'PC4'])\n",
    "pca_df['label'] = PCA_kmeans.labels_\n",
    "pca_df.head()"
   ]
  },
  {
   "cell_type": "code",
   "execution_count": null,
   "id": "7f6f3383",
   "metadata": {},
   "outputs": [],
   "source": [
    "attributes = pca_df.columns[:4]\n",
    "colors=['purple','yellow','red','blue']\n",
    "cluster=['Cluster 1','Cluster 2','Cluster 3','Cluster 4']\n",
    "\n",
    "fig = go.Figure()\n",
    "for index in range(0,4):\n",
    "    fig.add_trace(go.Scatterpolar(r=np.mean(pca_df.loc[pca_df.label == index, attributes]),\n",
    "                                  theta=attributes,\n",
    "                                  fill='toself',\n",
    "                                  fillcolor=colors[index],\n",
    "                                  opacity=0.4,\n",
    "                                  name=cluster[index]))\n",
    "    \n",
    "fig.update_layout(polar=dict(radialaxis=dict(visible=True)),showlegend=True,\n",
    "                  title=\"Radar plot - Cluster attributes (Normalized Values)\")\n",
    "fig.show()"
   ]
  }
 ],
 "metadata": {
  "kernelspec": {
   "display_name": "cluster",
   "language": "python",
   "name": "python3"
  },
  "language_info": {
   "codemirror_mode": {
    "name": "ipython",
    "version": 3
   },
   "file_extension": ".py",
   "mimetype": "text/x-python",
   "name": "python",
   "nbconvert_exporter": "python",
   "pygments_lexer": "ipython3",
   "version": "3.9.23"
  }
 },
 "nbformat": 4,
 "nbformat_minor": 5
}
